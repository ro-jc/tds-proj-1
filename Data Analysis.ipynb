{
 "cells": [
  {
   "cell_type": "code",
   "execution_count": 1,
   "id": "2982637c-3dd6-4daf-8a70-40ebf3fffffa",
   "metadata": {},
   "outputs": [],
   "source": [
    "import pandas as pd\n",
    "import numpy as np"
   ]
  },
  {
   "cell_type": "code",
   "execution_count": 2,
   "id": "405be397-078d-45ca-a127-0e71c14b2ccb",
   "metadata": {},
   "outputs": [],
   "source": [
    "users = pd.read_csv('users.csv')\n",
    "repos = pd.read_csv('repositories.csv')"
   ]
  },
  {
   "cell_type": "code",
   "execution_count": 3,
   "id": "d571ea71-40ae-41f4-9b9b-e356df453a1a",
   "metadata": {},
   "outputs": [
    {
     "data": {
      "text/html": [
       "<div>\n",
       "<style scoped>\n",
       "    .dataframe tbody tr th:only-of-type {\n",
       "        vertical-align: middle;\n",
       "    }\n",
       "\n",
       "    .dataframe tbody tr th {\n",
       "        vertical-align: top;\n",
       "    }\n",
       "\n",
       "    .dataframe thead th {\n",
       "        text-align: right;\n",
       "    }\n",
       "</style>\n",
       "<table border=\"1\" class=\"dataframe\">\n",
       "  <thead>\n",
       "    <tr style=\"text-align: right;\">\n",
       "      <th></th>\n",
       "      <th>login</th>\n",
       "      <th>name</th>\n",
       "      <th>company</th>\n",
       "      <th>location</th>\n",
       "      <th>email</th>\n",
       "      <th>hireable</th>\n",
       "      <th>bio</th>\n",
       "      <th>public_repos</th>\n",
       "      <th>followers</th>\n",
       "      <th>following</th>\n",
       "      <th>created_at</th>\n",
       "    </tr>\n",
       "  </thead>\n",
       "  <tbody>\n",
       "    <tr>\n",
       "      <th>0</th>\n",
       "      <td>ValentineFernandes</td>\n",
       "      <td>Valentine Fernandes</td>\n",
       "      <td>NaN</td>\n",
       "      <td>Mumbai, India</td>\n",
       "      <td>NaN</td>\n",
       "      <td>NaN</td>\n",
       "      <td>HTML |  CSS |  JS  |  SQL |  MYSQL | JAVA</td>\n",
       "      <td>66</td>\n",
       "      <td>5250</td>\n",
       "      <td>5274</td>\n",
       "      <td>2022-01-29T08:11:37Z</td>\n",
       "    </tr>\n",
       "    <tr>\n",
       "      <th>1</th>\n",
       "      <td>kovidgoyal</td>\n",
       "      <td>Kovid Goyal</td>\n",
       "      <td>NaN</td>\n",
       "      <td>Mumbai, India</td>\n",
       "      <td>NaN</td>\n",
       "      <td>NaN</td>\n",
       "      <td>Principal developer of calibre and kitty</td>\n",
       "      <td>37</td>\n",
       "      <td>4296</td>\n",
       "      <td>0</td>\n",
       "      <td>2012-01-06T05:38:24Z</td>\n",
       "    </tr>\n",
       "    <tr>\n",
       "      <th>2</th>\n",
       "      <td>slidenerd</td>\n",
       "      <td>slidenerd</td>\n",
       "      <td>SLIDENERD</td>\n",
       "      <td>Mumbai</td>\n",
       "      <td>slidenerd@gmail.com</td>\n",
       "      <td>True</td>\n",
       "      <td>Bots, AI, advanced web frameworks, ohlc applic...</td>\n",
       "      <td>113</td>\n",
       "      <td>3167</td>\n",
       "      <td>1</td>\n",
       "      <td>2013-08-01T14:17:19Z</td>\n",
       "    </tr>\n",
       "    <tr>\n",
       "      <th>3</th>\n",
       "      <td>aryashah2k</td>\n",
       "      <td>Arya Shah</td>\n",
       "      <td>OPENAOD</td>\n",
       "      <td>Mumbai, India</td>\n",
       "      <td>NaN</td>\n",
       "      <td>NaN</td>\n",
       "      <td>Computer Science Major | Machine Learning | So...</td>\n",
       "      <td>88</td>\n",
       "      <td>2600</td>\n",
       "      <td>2583</td>\n",
       "      <td>2020-11-03T03:06:19Z</td>\n",
       "    </tr>\n",
       "    <tr>\n",
       "      <th>4</th>\n",
       "      <td>coding-parrot</td>\n",
       "      <td>Gaurav Sen</td>\n",
       "      <td>INTERVIEWREADY</td>\n",
       "      <td>Mumbai, India</td>\n",
       "      <td>NaN</td>\n",
       "      <td>NaN</td>\n",
       "      <td>CEO of InterviewReady</td>\n",
       "      <td>11</td>\n",
       "      <td>2416</td>\n",
       "      <td>0</td>\n",
       "      <td>2020-01-03T14:13:35Z</td>\n",
       "    </tr>\n",
       "    <tr>\n",
       "      <th>...</th>\n",
       "      <td>...</td>\n",
       "      <td>...</td>\n",
       "      <td>...</td>\n",
       "      <td>...</td>\n",
       "      <td>...</td>\n",
       "      <td>...</td>\n",
       "      <td>...</td>\n",
       "      <td>...</td>\n",
       "      <td>...</td>\n",
       "      <td>...</td>\n",
       "      <td>...</td>\n",
       "    </tr>\n",
       "    <tr>\n",
       "      <th>733</th>\n",
       "      <td>alandsilva26</td>\n",
       "      <td>Alan Dsilva</td>\n",
       "      <td>ST. FRANCIS INSTITUTE OF TECHNOLOGY</td>\n",
       "      <td>Mumbai, India</td>\n",
       "      <td>alandsilva2001@gmail.com</td>\n",
       "      <td>NaN</td>\n",
       "      <td>Aspiring software developer.</td>\n",
       "      <td>51</td>\n",
       "      <td>50</td>\n",
       "      <td>47</td>\n",
       "      <td>2019-02-19T05:18:01Z</td>\n",
       "    </tr>\n",
       "    <tr>\n",
       "      <th>734</th>\n",
       "      <td>lokita282</td>\n",
       "      <td>Lokita Varma</td>\n",
       "      <td>NaN</td>\n",
       "      <td>Mumbai</td>\n",
       "      <td>NaN</td>\n",
       "      <td>NaN</td>\n",
       "      <td>NaN</td>\n",
       "      <td>29</td>\n",
       "      <td>50</td>\n",
       "      <td>43</td>\n",
       "      <td>2020-11-30T09:19:59Z</td>\n",
       "    </tr>\n",
       "    <tr>\n",
       "      <th>735</th>\n",
       "      <td>thejzany</td>\n",
       "      <td>Jay Sohani</td>\n",
       "      <td>NaN</td>\n",
       "      <td>Mumbai, India</td>\n",
       "      <td>NaN</td>\n",
       "      <td>NaN</td>\n",
       "      <td>Coding My Way Through Life!\\r\\n</td>\n",
       "      <td>20</td>\n",
       "      <td>50</td>\n",
       "      <td>25</td>\n",
       "      <td>2023-03-11T13:53:23Z</td>\n",
       "    </tr>\n",
       "    <tr>\n",
       "      <th>736</th>\n",
       "      <td>ajaykakkar93</td>\n",
       "      <td>Ajay Kakkar</td>\n",
       "      <td>PREDOOLE ANALYTICS</td>\n",
       "      <td>Mumbai</td>\n",
       "      <td>ajaykakkar93@gmail.com</td>\n",
       "      <td>True</td>\n",
       "      <td>Web Developer &amp; qlik sense developer</td>\n",
       "      <td>42</td>\n",
       "      <td>50</td>\n",
       "      <td>8</td>\n",
       "      <td>2016-11-24T10:35:13Z</td>\n",
       "    </tr>\n",
       "    <tr>\n",
       "      <th>737</th>\n",
       "      <td>Hiral25p</td>\n",
       "      <td>Hiral Patel</td>\n",
       "      <td>NaN</td>\n",
       "      <td>Mumbai, Maharashtra, India</td>\n",
       "      <td>hiral.patel2@somaiya.edu</td>\n",
       "      <td>True</td>\n",
       "      <td>Aspiring Software Engineer.\\r\\n</td>\n",
       "      <td>21</td>\n",
       "      <td>50</td>\n",
       "      <td>101</td>\n",
       "      <td>2021-10-16T12:20:22Z</td>\n",
       "    </tr>\n",
       "  </tbody>\n",
       "</table>\n",
       "<p>738 rows × 11 columns</p>\n",
       "</div>"
      ],
      "text/plain": [
       "                  login                 name  \\\n",
       "0    ValentineFernandes  Valentine Fernandes   \n",
       "1            kovidgoyal          Kovid Goyal   \n",
       "2             slidenerd            slidenerd   \n",
       "3            aryashah2k            Arya Shah   \n",
       "4         coding-parrot           Gaurav Sen   \n",
       "..                  ...                  ...   \n",
       "733        alandsilva26          Alan Dsilva   \n",
       "734           lokita282         Lokita Varma   \n",
       "735            thejzany           Jay Sohani   \n",
       "736        ajaykakkar93          Ajay Kakkar   \n",
       "737            Hiral25p          Hiral Patel   \n",
       "\n",
       "                                 company                    location  \\\n",
       "0                                    NaN               Mumbai, India   \n",
       "1                                    NaN               Mumbai, India   \n",
       "2                              SLIDENERD                      Mumbai   \n",
       "3                                OPENAOD               Mumbai, India   \n",
       "4                         INTERVIEWREADY               Mumbai, India   \n",
       "..                                   ...                         ...   \n",
       "733  ST. FRANCIS INSTITUTE OF TECHNOLOGY               Mumbai, India   \n",
       "734                                  NaN                      Mumbai   \n",
       "735                                  NaN               Mumbai, India   \n",
       "736                   PREDOOLE ANALYTICS                      Mumbai   \n",
       "737                                  NaN  Mumbai, Maharashtra, India   \n",
       "\n",
       "                        email hireable  \\\n",
       "0                         NaN      NaN   \n",
       "1                         NaN      NaN   \n",
       "2         slidenerd@gmail.com     True   \n",
       "3                         NaN      NaN   \n",
       "4                         NaN      NaN   \n",
       "..                        ...      ...   \n",
       "733  alandsilva2001@gmail.com      NaN   \n",
       "734                       NaN      NaN   \n",
       "735                       NaN      NaN   \n",
       "736    ajaykakkar93@gmail.com     True   \n",
       "737  hiral.patel2@somaiya.edu     True   \n",
       "\n",
       "                                                   bio  public_repos  \\\n",
       "0            HTML |  CSS |  JS  |  SQL |  MYSQL | JAVA            66   \n",
       "1             Principal developer of calibre and kitty            37   \n",
       "2    Bots, AI, advanced web frameworks, ohlc applic...           113   \n",
       "3    Computer Science Major | Machine Learning | So...            88   \n",
       "4                                CEO of InterviewReady            11   \n",
       "..                                                 ...           ...   \n",
       "733                       Aspiring software developer.            51   \n",
       "734                                                NaN            29   \n",
       "735                    Coding My Way Through Life!\\r\\n            20   \n",
       "736              Web Developer & qlik sense developer             42   \n",
       "737                    Aspiring Software Engineer.\\r\\n            21   \n",
       "\n",
       "     followers  following            created_at  \n",
       "0         5250       5274  2022-01-29T08:11:37Z  \n",
       "1         4296          0  2012-01-06T05:38:24Z  \n",
       "2         3167          1  2013-08-01T14:17:19Z  \n",
       "3         2600       2583  2020-11-03T03:06:19Z  \n",
       "4         2416          0  2020-01-03T14:13:35Z  \n",
       "..         ...        ...                   ...  \n",
       "733         50         47  2019-02-19T05:18:01Z  \n",
       "734         50         43  2020-11-30T09:19:59Z  \n",
       "735         50         25  2023-03-11T13:53:23Z  \n",
       "736         50          8  2016-11-24T10:35:13Z  \n",
       "737         50        101  2021-10-16T12:20:22Z  \n",
       "\n",
       "[738 rows x 11 columns]"
      ]
     },
     "execution_count": 3,
     "metadata": {},
     "output_type": "execute_result"
    }
   ],
   "source": [
    "users"
   ]
  },
  {
   "cell_type": "code",
   "execution_count": 4,
   "id": "b302ec5e-bf9d-48a9-b87c-fb22836b3ea6",
   "metadata": {},
   "outputs": [
    {
     "data": {
      "text/html": [
       "<div>\n",
       "<style scoped>\n",
       "    .dataframe tbody tr th:only-of-type {\n",
       "        vertical-align: middle;\n",
       "    }\n",
       "\n",
       "    .dataframe tbody tr th {\n",
       "        vertical-align: top;\n",
       "    }\n",
       "\n",
       "    .dataframe thead th {\n",
       "        text-align: right;\n",
       "    }\n",
       "</style>\n",
       "<table border=\"1\" class=\"dataframe\">\n",
       "  <thead>\n",
       "    <tr style=\"text-align: right;\">\n",
       "      <th></th>\n",
       "      <th>login</th>\n",
       "      <th>full_name</th>\n",
       "      <th>created_at</th>\n",
       "      <th>stargazers_count</th>\n",
       "      <th>watchers_count</th>\n",
       "      <th>language</th>\n",
       "      <th>has_projects</th>\n",
       "      <th>has_wiki</th>\n",
       "      <th>license_name</th>\n",
       "    </tr>\n",
       "  </thead>\n",
       "  <tbody>\n",
       "    <tr>\n",
       "      <th>0</th>\n",
       "      <td>ValentineFernandes</td>\n",
       "      <td>ValentineFernandes/Food-Website</td>\n",
       "      <td>2022-06-01T17:20:57Z</td>\n",
       "      <td>54</td>\n",
       "      <td>54</td>\n",
       "      <td>HTML</td>\n",
       "      <td>True</td>\n",
       "      <td>True</td>\n",
       "      <td>mit</td>\n",
       "    </tr>\n",
       "    <tr>\n",
       "      <th>1</th>\n",
       "      <td>ValentineFernandes</td>\n",
       "      <td>ValentineFernandes/DentalClinic-Website</td>\n",
       "      <td>2022-06-02T10:28:55Z</td>\n",
       "      <td>60</td>\n",
       "      <td>60</td>\n",
       "      <td>HTML</td>\n",
       "      <td>True</td>\n",
       "      <td>True</td>\n",
       "      <td>mit</td>\n",
       "    </tr>\n",
       "    <tr>\n",
       "      <th>2</th>\n",
       "      <td>ValentineFernandes</td>\n",
       "      <td>ValentineFernandes/ValentineFernandes</td>\n",
       "      <td>2022-02-12T09:27:51Z</td>\n",
       "      <td>59</td>\n",
       "      <td>59</td>\n",
       "      <td>NaN</td>\n",
       "      <td>True</td>\n",
       "      <td>False</td>\n",
       "      <td>NaN</td>\n",
       "    </tr>\n",
       "    <tr>\n",
       "      <th>3</th>\n",
       "      <td>ValentineFernandes</td>\n",
       "      <td>ValentineFernandes/PetDog-Complete-Website</td>\n",
       "      <td>2022-03-24T07:17:59Z</td>\n",
       "      <td>55</td>\n",
       "      <td>55</td>\n",
       "      <td>HTML</td>\n",
       "      <td>True</td>\n",
       "      <td>True</td>\n",
       "      <td>mit</td>\n",
       "    </tr>\n",
       "    <tr>\n",
       "      <th>4</th>\n",
       "      <td>ValentineFernandes</td>\n",
       "      <td>ValentineFernandes/MySQL-Assignment</td>\n",
       "      <td>2022-10-10T13:59:53Z</td>\n",
       "      <td>12</td>\n",
       "      <td>12</td>\n",
       "      <td>NaN</td>\n",
       "      <td>True</td>\n",
       "      <td>True</td>\n",
       "      <td>mit</td>\n",
       "    </tr>\n",
       "    <tr>\n",
       "      <th>...</th>\n",
       "      <td>...</td>\n",
       "      <td>...</td>\n",
       "      <td>...</td>\n",
       "      <td>...</td>\n",
       "      <td>...</td>\n",
       "      <td>...</td>\n",
       "      <td>...</td>\n",
       "      <td>...</td>\n",
       "      <td>...</td>\n",
       "    </tr>\n",
       "    <tr>\n",
       "      <th>41982</th>\n",
       "      <td>Hiral25p</td>\n",
       "      <td>Hiral25p/Multilingual-Language-Translator</td>\n",
       "      <td>2023-11-15T20:14:49Z</td>\n",
       "      <td>0</td>\n",
       "      <td>0</td>\n",
       "      <td>NaN</td>\n",
       "      <td>True</td>\n",
       "      <td>False</td>\n",
       "      <td>NaN</td>\n",
       "    </tr>\n",
       "    <tr>\n",
       "      <th>41983</th>\n",
       "      <td>Hiral25p</td>\n",
       "      <td>Hiral25p/FreshFields</td>\n",
       "      <td>2023-03-21T14:31:24Z</td>\n",
       "      <td>0</td>\n",
       "      <td>0</td>\n",
       "      <td>HTML</td>\n",
       "      <td>True</td>\n",
       "      <td>True</td>\n",
       "      <td>mit</td>\n",
       "    </tr>\n",
       "    <tr>\n",
       "      <th>41984</th>\n",
       "      <td>Hiral25p</td>\n",
       "      <td>Hiral25p/bit-n-build-hackathon</td>\n",
       "      <td>2023-01-28T17:34:45Z</td>\n",
       "      <td>0</td>\n",
       "      <td>0</td>\n",
       "      <td>HTML</td>\n",
       "      <td>True</td>\n",
       "      <td>True</td>\n",
       "      <td>mit</td>\n",
       "    </tr>\n",
       "    <tr>\n",
       "      <th>41985</th>\n",
       "      <td>Hiral25p</td>\n",
       "      <td>Hiral25p/Disease-Prediction</td>\n",
       "      <td>2022-11-30T07:55:47Z</td>\n",
       "      <td>0</td>\n",
       "      <td>0</td>\n",
       "      <td>Python</td>\n",
       "      <td>True</td>\n",
       "      <td>True</td>\n",
       "      <td>NaN</td>\n",
       "    </tr>\n",
       "    <tr>\n",
       "      <th>41986</th>\n",
       "      <td>Hiral25p</td>\n",
       "      <td>Hiral25p/Book-Management-system</td>\n",
       "      <td>2022-07-01T18:50:53Z</td>\n",
       "      <td>0</td>\n",
       "      <td>0</td>\n",
       "      <td>Python</td>\n",
       "      <td>True</td>\n",
       "      <td>True</td>\n",
       "      <td>NaN</td>\n",
       "    </tr>\n",
       "  </tbody>\n",
       "</table>\n",
       "<p>41987 rows × 9 columns</p>\n",
       "</div>"
      ],
      "text/plain": [
       "                    login                                   full_name  \\\n",
       "0      ValentineFernandes             ValentineFernandes/Food-Website   \n",
       "1      ValentineFernandes     ValentineFernandes/DentalClinic-Website   \n",
       "2      ValentineFernandes       ValentineFernandes/ValentineFernandes   \n",
       "3      ValentineFernandes  ValentineFernandes/PetDog-Complete-Website   \n",
       "4      ValentineFernandes         ValentineFernandes/MySQL-Assignment   \n",
       "...                   ...                                         ...   \n",
       "41982            Hiral25p   Hiral25p/Multilingual-Language-Translator   \n",
       "41983            Hiral25p                        Hiral25p/FreshFields   \n",
       "41984            Hiral25p              Hiral25p/bit-n-build-hackathon   \n",
       "41985            Hiral25p                 Hiral25p/Disease-Prediction   \n",
       "41986            Hiral25p             Hiral25p/Book-Management-system   \n",
       "\n",
       "                 created_at  stargazers_count  watchers_count language  \\\n",
       "0      2022-06-01T17:20:57Z                54              54     HTML   \n",
       "1      2022-06-02T10:28:55Z                60              60     HTML   \n",
       "2      2022-02-12T09:27:51Z                59              59      NaN   \n",
       "3      2022-03-24T07:17:59Z                55              55     HTML   \n",
       "4      2022-10-10T13:59:53Z                12              12      NaN   \n",
       "...                     ...               ...             ...      ...   \n",
       "41982  2023-11-15T20:14:49Z                 0               0      NaN   \n",
       "41983  2023-03-21T14:31:24Z                 0               0     HTML   \n",
       "41984  2023-01-28T17:34:45Z                 0               0     HTML   \n",
       "41985  2022-11-30T07:55:47Z                 0               0   Python   \n",
       "41986  2022-07-01T18:50:53Z                 0               0   Python   \n",
       "\n",
       "       has_projects  has_wiki license_name  \n",
       "0              True      True          mit  \n",
       "1              True      True          mit  \n",
       "2              True     False          NaN  \n",
       "3              True      True          mit  \n",
       "4              True      True          mit  \n",
       "...             ...       ...          ...  \n",
       "41982          True     False          NaN  \n",
       "41983          True      True          mit  \n",
       "41984          True      True          mit  \n",
       "41985          True      True          NaN  \n",
       "41986          True      True          NaN  \n",
       "\n",
       "[41987 rows x 9 columns]"
      ]
     },
     "execution_count": 4,
     "metadata": {},
     "output_type": "execute_result"
    }
   ],
   "source": [
    "repos"
   ]
  },
  {
   "cell_type": "markdown",
   "id": "b1080dc5-75b9-4651-8f6d-d8f297bc9445",
   "metadata": {},
   "source": [
    "## Q1\n",
    " Who are the top 5 users in Mumbai with the highest number of followers? List their login in order, comma-separated."
   ]
  },
  {
   "cell_type": "code",
   "execution_count": 5,
   "id": "de82a608-0f83-4a1a-b160-bc613e7922e8",
   "metadata": {},
   "outputs": [
    {
     "data": {
      "text/plain": [
       "'ValentineFernandes,kovidgoyal,slidenerd,aryashah2k,coding-parrot'"
      ]
     },
     "execution_count": 5,
     "metadata": {},
     "output_type": "execute_result"
    }
   ],
   "source": [
    "','.join(users.sort_values('followers', ascending=False)[:5]['login'])"
   ]
  },
  {
   "cell_type": "markdown",
   "id": "054d24d8-7120-4d33-8f1f-f8aaab910921",
   "metadata": {},
   "source": [
    "## Q2\n",
    "Who are the 5 earliest registered GitHub users in Mumbai? List their login in ascending order of created_at, comma-separated."
   ]
  },
  {
   "cell_type": "code",
   "execution_count": 6,
   "id": "be685e7e-584f-44dc-83d5-e1d8d6afabc2",
   "metadata": {},
   "outputs": [
    {
     "data": {
      "text/plain": [
       "'ivank,sandeepshetty,svs,nitinhayaran,nischal'"
      ]
     },
     "execution_count": 6,
     "metadata": {},
     "output_type": "execute_result"
    }
   ],
   "source": [
    "','.join(users.sort_values('created_at', ascending=True)[:5]['login'])"
   ]
  },
  {
   "cell_type": "markdown",
   "id": "bf1ee5be-fb12-404a-ab28-e84d2dfca9be",
   "metadata": {},
   "source": [
    "## Q3\n",
    "What are the 3 most popular license among these users? Ignore missing licenses. List the license_name in order, comma-separated."
   ]
  },
  {
   "cell_type": "code",
   "execution_count": 7,
   "id": "93f1a656-8b0c-4995-8f42-22ffa88a29cb",
   "metadata": {},
   "outputs": [
    {
     "data": {
      "text/plain": [
       "'mit,apache-2.0,other'"
      ]
     },
     "execution_count": 7,
     "metadata": {},
     "output_type": "execute_result"
    }
   ],
   "source": [
    "license_counts = repos.groupby('license_name').count().reset_index()\n",
    "','.join(license_counts.sort_values('login', ascending=False)[:3]['license_name'])"
   ]
  },
  {
   "cell_type": "markdown",
   "id": "d760ca45-12c3-45a2-8504-61479af6b42f",
   "metadata": {},
   "source": [
    "## Q4\n",
    "Which company do the majority of these developers work at?"
   ]
  },
  {
   "cell_type": "code",
   "execution_count": 8,
   "id": "174e5ba8-849e-44de-8c7d-66daaa3a8b49",
   "metadata": {},
   "outputs": [
    {
     "data": {
      "text/plain": [
       "193    MASAI SCHOOL\n",
       "Name: company, dtype: object"
      ]
     },
     "execution_count": 8,
     "metadata": {},
     "output_type": "execute_result"
    }
   ],
   "source": [
    "company_counts = users.groupby('company').count().reset_index()\n",
    "company_counts.sort_values('login', ascending=False)[:1]['company']"
   ]
  },
  {
   "cell_type": "markdown",
   "id": "da3b396c-ad56-4871-b306-81075632be33",
   "metadata": {},
   "source": [
    "## Q5\n",
    "Which programming language is most popular among these users?"
   ]
  },
  {
   "cell_type": "code",
   "execution_count": 9,
   "id": "f0b8189b-0d51-4a2b-b1c8-67d5743d0dab",
   "metadata": {},
   "outputs": [
    {
     "data": {
      "text/plain": [
       "55    JavaScript\n",
       "Name: language, dtype: object"
      ]
     },
     "execution_count": 9,
     "metadata": {},
     "output_type": "execute_result"
    }
   ],
   "source": [
    "lang_counts = repos.groupby('language').count().reset_index()\n",
    "lang_counts.sort_values('login', ascending=False)[:1]['language']"
   ]
  },
  {
   "cell_type": "markdown",
   "id": "29416ce3-89a6-4649-8677-754f7808021a",
   "metadata": {},
   "source": [
    "## Q6\n",
    "Which programming language is the second most popular among users who joined after 2020?"
   ]
  },
  {
   "cell_type": "code",
   "execution_count": 10,
   "id": "1ef9ce72-74ae-41ca-afe0-a13e2f3092f0",
   "metadata": {},
   "outputs": [
    {
     "data": {
      "text/plain": [
       "14    HTML\n",
       "Name: language, dtype: object"
      ]
     },
     "execution_count": 10,
     "metadata": {},
     "output_type": "execute_result"
    }
   ],
   "source": [
    "recent_user_logins = users[users['created_at'] > '2020-12-31']['login']\n",
    "target_repos = repos[repos['login'].isin(recent_user_logins)]\n",
    "recent_lang_counts = target_repos.groupby('language').count().reset_index()\n",
    "recent_lang_counts.sort_values('login', ascending=False)[1:2]['language']"
   ]
  },
  {
   "cell_type": "markdown",
   "id": "77e9c029-9768-43b0-b226-363077be6304",
   "metadata": {},
   "source": [
    "## Q7\n",
    "Which language has the highest average number of stars per repository?"
   ]
  },
  {
   "cell_type": "code",
   "execution_count": 11,
   "id": "65e53057-f273-4d23-ae8c-0850a4631869",
   "metadata": {},
   "outputs": [
    {
     "data": {
      "text/plain": [
       "language\n",
       "TSQL    571.153846\n",
       "Name: stargazers_count, dtype: float64"
      ]
     },
     "execution_count": 11,
     "metadata": {},
     "output_type": "execute_result"
    }
   ],
   "source": [
    "repos.groupby('language')['stargazers_count'].agg('mean').sort_values(ascending=False)[:1]"
   ]
  },
  {
   "cell_type": "markdown",
   "id": "2d0d86f7-5534-4b6a-a08d-6e1b9de09c92",
   "metadata": {},
   "source": [
    "## Q8\n",
    " Let's define leader_strength as followers / (1 + following). Who are the top 5 in terms of leader_strength? List their login in order, comma-separated."
   ]
  },
  {
   "cell_type": "code",
   "execution_count": 12,
   "id": "d2d00055-ded5-4a0d-b341-c876916fd714",
   "metadata": {},
   "outputs": [
    {
     "data": {
      "text/plain": [
       "'kovidgoyal,coding-parrot,gkcs,slidenerd,dmalvia'"
      ]
     },
     "execution_count": 12,
     "metadata": {},
     "output_type": "execute_result"
    }
   ],
   "source": [
    "leader_strength_df = users[['login', 'followers', 'following']].copy()\n",
    "leader_strength_df['leader_strength'] = users['followers'] / (1 + users['following']) \n",
    "','.join(leader_strength_df.sort_values('leader_strength', ascending=False)[:5]['login'])"
   ]
  },
  {
   "cell_type": "markdown",
   "id": "bd2746b6-62e9-484d-9112-388c225f3d4a",
   "metadata": {},
   "source": [
    "## Q9\n",
    "What is the correlation between the number of followers and the number of public repositories among users in Mumbai?\n",
    "\n",
    "Correlation between followers and repos (to 3 decimal places, e.g. 0.123 or -0.123)"
   ]
  },
  {
   "cell_type": "code",
   "execution_count": 13,
   "id": "0ab67724-9f92-42b8-b195-f72f95b92649",
   "metadata": {},
   "outputs": [
    {
     "data": {
      "text/html": [
       "<div>\n",
       "<style scoped>\n",
       "    .dataframe tbody tr th:only-of-type {\n",
       "        vertical-align: middle;\n",
       "    }\n",
       "\n",
       "    .dataframe tbody tr th {\n",
       "        vertical-align: top;\n",
       "    }\n",
       "\n",
       "    .dataframe thead th {\n",
       "        text-align: right;\n",
       "    }\n",
       "</style>\n",
       "<table border=\"1\" class=\"dataframe\">\n",
       "  <thead>\n",
       "    <tr style=\"text-align: right;\">\n",
       "      <th></th>\n",
       "      <th>followers</th>\n",
       "      <th>public_repos</th>\n",
       "    </tr>\n",
       "  </thead>\n",
       "  <tbody>\n",
       "    <tr>\n",
       "      <th>followers</th>\n",
       "      <td>1.000000</td>\n",
       "      <td>0.035095</td>\n",
       "    </tr>\n",
       "    <tr>\n",
       "      <th>public_repos</th>\n",
       "      <td>0.035095</td>\n",
       "      <td>1.000000</td>\n",
       "    </tr>\n",
       "  </tbody>\n",
       "</table>\n",
       "</div>"
      ],
      "text/plain": [
       "              followers  public_repos\n",
       "followers      1.000000      0.035095\n",
       "public_repos   0.035095      1.000000"
      ]
     },
     "execution_count": 13,
     "metadata": {},
     "output_type": "execute_result"
    }
   ],
   "source": [
    "users[['followers', 'public_repos']].corr()"
   ]
  },
  {
   "cell_type": "markdown",
   "id": "c40c5c75-8112-4301-b7e2-202c5b51a94a",
   "metadata": {},
   "source": [
    "## Q10\n",
    "Does creating more repos help users get more followers? Using regression, estimate how many additional followers a user gets per additional public repository.\n",
    "\n",
    "Regression slope of followers on repos (to 3 decimal places, e.g. 0.123 or -0.123)"
   ]
  },
  {
   "cell_type": "code",
   "execution_count": 14,
   "id": "243a6baf-fe96-4011-b5c3-e6007f8ed3fd",
   "metadata": {},
   "outputs": [
    {
     "data": {
      "text/plain": [
       "array([1.02646686e-01, 1.48451971e+02])"
      ]
     },
     "execution_count": 14,
     "metadata": {},
     "output_type": "execute_result"
    }
   ],
   "source": [
    "repos_vs_followers = np.polyfit(users['public_repos'], users['followers'], 1)\n",
    "repos_vs_followers"
   ]
  },
  {
   "cell_type": "markdown",
   "id": "43f32e1c-96bf-448e-99f0-1c96015371e8",
   "metadata": {},
   "source": [
    "## Q11\n",
    "Do people typically enable projects and wikis together? What is the correlation between a repo having projects enabled and having wiki enabled?\n",
    "\n",
    "Correlation between projects and wiki enabled (to 3 decimal places, e.g. 0.123 or -0.123)"
   ]
  },
  {
   "cell_type": "code",
   "execution_count": 15,
   "id": "05cf0387-459e-4f4e-87c4-fdef242a78e7",
   "metadata": {},
   "outputs": [
    {
     "data": {
      "text/html": [
       "<div>\n",
       "<style scoped>\n",
       "    .dataframe tbody tr th:only-of-type {\n",
       "        vertical-align: middle;\n",
       "    }\n",
       "\n",
       "    .dataframe tbody tr th {\n",
       "        vertical-align: top;\n",
       "    }\n",
       "\n",
       "    .dataframe thead th {\n",
       "        text-align: right;\n",
       "    }\n",
       "</style>\n",
       "<table border=\"1\" class=\"dataframe\">\n",
       "  <thead>\n",
       "    <tr style=\"text-align: right;\">\n",
       "      <th></th>\n",
       "      <th>has_wiki</th>\n",
       "      <th>has_projects</th>\n",
       "    </tr>\n",
       "  </thead>\n",
       "  <tbody>\n",
       "    <tr>\n",
       "      <th>has_wiki</th>\n",
       "      <td>1.000000</td>\n",
       "      <td>0.159695</td>\n",
       "    </tr>\n",
       "    <tr>\n",
       "      <th>has_projects</th>\n",
       "      <td>0.159695</td>\n",
       "      <td>1.000000</td>\n",
       "    </tr>\n",
       "  </tbody>\n",
       "</table>\n",
       "</div>"
      ],
      "text/plain": [
       "              has_wiki  has_projects\n",
       "has_wiki      1.000000      0.159695\n",
       "has_projects  0.159695      1.000000"
      ]
     },
     "execution_count": 15,
     "metadata": {},
     "output_type": "execute_result"
    }
   ],
   "source": [
    "repos[['has_wiki', 'has_projects']].corr()"
   ]
  },
  {
   "cell_type": "markdown",
   "id": "12bff8cc-12af-4a09-840c-4bc512001b92",
   "metadata": {},
   "source": [
    "## Q12\n",
    "Do hireable users follow more people than those who are not hireable?\n",
    "\n",
    "Average of following per user for hireable=true minus the average following for the rest (to 3 decimal places, e.g. 12.345 or -12.345)"
   ]
  },
  {
   "cell_type": "code",
   "execution_count": 16,
   "id": "0e2d0c96-b920-4998-8d72-cdf38d839465",
   "metadata": {},
   "outputs": [
    {
     "data": {
      "text/plain": [
       "np.float64(7.34942722608757)"
      ]
     },
     "execution_count": 16,
     "metadata": {},
     "output_type": "execute_result"
    }
   ],
   "source": [
    "hireable_avg = users[users['hireable'] == True]['following'].mean()\n",
    "non_hireable_avg = users[~(users['hireable'] == True)]['following'].mean()\n",
    "hireable_avg-non_hireable_avg"
   ]
  },
  {
   "cell_type": "markdown",
   "id": "ef0da184-993f-4b9e-b262-c062aee75059",
   "metadata": {},
   "source": [
    "## Q13\n",
    "Some developers write long bios. Does that help them get more followers? What's the correlation of the length of their bio (in Unicode words, split by whitespace) with followers? (Ignore people without bios)\n",
    "\n",
    "Regression slope of followers on bio word count (to 3 decimal places, e.g. 12.345 or -12.345)"
   ]
  },
  {
   "cell_type": "code",
   "execution_count": 17,
   "id": "4fbdc570-103a-45e8-a887-a679ee386386",
   "metadata": {},
   "outputs": [
    {
     "data": {
      "text/plain": [
       "np.float64(-0.35515127041269173)"
      ]
     },
     "execution_count": 17,
     "metadata": {},
     "output_type": "execute_result"
    }
   ],
   "source": [
    "biolen_followers = users[['followers', 'bio']].copy()\n",
    "biolen_followers.dropna(inplace=True)\n",
    "biolen_followers['bio_len'] = biolen_followers['bio'].apply(lambda n: len(n.split()))\n",
    "\n",
    "bio_vs_followers = np.polyfit(biolen_followers['bio_len'], biolen_followers['followers'], 1)\n",
    "bio_vs_followers[0]"
   ]
  },
  {
   "cell_type": "markdown",
   "id": "99f30ffd-c15c-420b-bed5-3d7a5a686426",
   "metadata": {},
   "source": [
    "## Q14\n",
    "Who created the most repositories on weekends (UTC)? List the top 5 users' login in order, comma-separated\n",
    "\n",
    "Users login"
   ]
  },
  {
   "cell_type": "code",
   "execution_count": 18,
   "id": "eb21d77b-9b0d-4763-9564-d53f0a8c3efa",
   "metadata": {},
   "outputs": [
    {
     "data": {
      "text/plain": [
       "'Kushal334,alokproc,vinod1988,patilswapnilv,rajeshpillai'"
      ]
     },
     "execution_count": 18,
     "metadata": {},
     "output_type": "execute_result"
    }
   ],
   "source": [
    "repos_time_conv = repos.copy()\n",
    "repos_time_conv['created_day'] = pd.to_datetime(repos_time_conv['created_at']).dt.dayofweek\n",
    "weekend_repos = repos_time_conv[repos_time_conv['created_day'].isin([5,6])]\n",
    "','.join(weekend_repos.groupby('login').count().reset_index().sort_values('full_name', ascending=False)['login'][:5])"
   ]
  },
  {
   "cell_type": "markdown",
   "id": "c2718585-f192-4ba5-ac0e-76054bc5aa27",
   "metadata": {},
   "source": [
    "## Q15\n",
    "Do people who are hireable share their email addresses more often?\n",
    "\n",
    "[fraction of users with email when hireable=true] minus [fraction of users with email for the rest] (to 3 decimal places, e.g. 0.123 or -0.123)"
   ]
  },
  {
   "cell_type": "code",
   "execution_count": 19,
   "id": "6f6e54de-330a-48e8-85e3-792dfa0d7aaf",
   "metadata": {},
   "outputs": [
    {
     "data": {
      "text/plain": [
       "np.float64(0.22882844894230098)"
      ]
     },
     "execution_count": 19,
     "metadata": {},
     "output_type": "execute_result"
    }
   ],
   "source": [
    "hireable_email = users[users['hireable'] == True]['email']\n",
    "non_hireable_email = users[users['hireable'].isna()]['email']\n",
    "\n",
    "hireable_email.notna().mean()-non_hireable_email.notna().mean()"
   ]
  },
  {
   "cell_type": "markdown",
   "id": "dc4e9654-e5ba-4ce9-8045-708ceaa6898d",
   "metadata": {},
   "source": [
    "## Q16\n",
    "Let's assume that the last word in a user's name is their surname (ignore missing names, trim and split by whitespace.) What's the most common surname? (If there's a tie, list them all, comma-separated, alphabetically)\n"
   ]
  },
  {
   "cell_type": "code",
   "execution_count": 20,
   "id": "42db26d6-9d9e-4a8b-b42a-d5cc9792366a",
   "metadata": {},
   "outputs": [
    {
     "data": {
      "text/html": [
       "<div>\n",
       "<style scoped>\n",
       "    .dataframe tbody tr th:only-of-type {\n",
       "        vertical-align: middle;\n",
       "    }\n",
       "\n",
       "    .dataframe tbody tr th {\n",
       "        vertical-align: top;\n",
       "    }\n",
       "\n",
       "    .dataframe thead th {\n",
       "        text-align: right;\n",
       "    }\n",
       "</style>\n",
       "<table border=\"1\" class=\"dataframe\">\n",
       "  <thead>\n",
       "    <tr style=\"text-align: right;\">\n",
       "      <th></th>\n",
       "      <th>last_name</th>\n",
       "      <th>name</th>\n",
       "    </tr>\n",
       "  </thead>\n",
       "  <tbody>\n",
       "    <tr>\n",
       "      <th>372</th>\n",
       "      <td>Singh</td>\n",
       "      <td>18</td>\n",
       "    </tr>\n",
       "  </tbody>\n",
       "</table>\n",
       "</div>"
      ],
      "text/plain": [
       "    last_name  name\n",
       "372     Singh    18"
      ]
     },
     "execution_count": 20,
     "metadata": {},
     "output_type": "execute_result"
    }
   ],
   "source": [
    "user_surname_df = users[['name']].copy()\n",
    "name_split = users['name'].str.split(' ', expand=True)\n",
    "\n",
    "user_surname_df['last_name'] = name_split[1]\n",
    "user_surname_df.groupby('last_name').count().reset_index().sort_values('name', ascending=False)[:1]"
   ]
  }
 ],
 "metadata": {
  "kernelspec": {
   "display_name": "f1tenth",
   "language": "python",
   "name": "f1tenth"
  },
  "language_info": {
   "codemirror_mode": {
    "name": "ipython",
    "version": 3
   },
   "file_extension": ".py",
   "mimetype": "text/x-python",
   "name": "python",
   "nbconvert_exporter": "python",
   "pygments_lexer": "ipython3",
   "version": "3.10.12"
  }
 },
 "nbformat": 4,
 "nbformat_minor": 5
}
