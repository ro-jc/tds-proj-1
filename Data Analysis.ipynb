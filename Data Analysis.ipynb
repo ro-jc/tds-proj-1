{
 "cells": [
  {
   "cell_type": "code",
   "execution_count": 1,
   "id": "2982637c-3dd6-4daf-8a70-40ebf3fffffa",
   "metadata": {},
   "outputs": [],
   "source": [
    "import pandas as pd\n",
    "import numpy as np\n",
    "import datetime"
   ]
  },
  {
   "cell_type": "code",
   "execution_count": 2,
   "id": "405be397-078d-45ca-a127-0e71c14b2ccb",
   "metadata": {},
   "outputs": [],
   "source": [
    "users = pd.read_csv('users.csv')\n",
    "repos = pd.read_csv('repositories.csv')"
   ]
  },
  {
   "cell_type": "code",
   "execution_count": 3,
   "id": "d571ea71-40ae-41f4-9b9b-e356df453a1a",
   "metadata": {},
   "outputs": [
    {
     "data": {
      "text/html": [
       "<div>\n",
       "<style scoped>\n",
       "    .dataframe tbody tr th:only-of-type {\n",
       "        vertical-align: middle;\n",
       "    }\n",
       "\n",
       "    .dataframe tbody tr th {\n",
       "        vertical-align: top;\n",
       "    }\n",
       "\n",
       "    .dataframe thead th {\n",
       "        text-align: right;\n",
       "    }\n",
       "</style>\n",
       "<table border=\"1\" class=\"dataframe\">\n",
       "  <thead>\n",
       "    <tr style=\"text-align: right;\">\n",
       "      <th></th>\n",
       "      <th>login</th>\n",
       "      <th>name</th>\n",
       "      <th>company</th>\n",
       "      <th>location</th>\n",
       "      <th>email</th>\n",
       "      <th>hireable</th>\n",
       "      <th>bio</th>\n",
       "      <th>public_repos</th>\n",
       "      <th>followers</th>\n",
       "      <th>following</th>\n",
       "      <th>created_at</th>\n",
       "    </tr>\n",
       "  </thead>\n",
       "  <tbody>\n",
       "    <tr>\n",
       "      <th>0</th>\n",
       "      <td>ValentineFernandes</td>\n",
       "      <td>Valentine Fernandes</td>\n",
       "      <td>NaN</td>\n",
       "      <td>Mumbai, India</td>\n",
       "      <td>NaN</td>\n",
       "      <td>NaN</td>\n",
       "      <td>HTML |  CSS |  JS  |  SQL |  MYSQL | JAVA</td>\n",
       "      <td>66</td>\n",
       "      <td>5252</td>\n",
       "      <td>5275</td>\n",
       "      <td>2022-01-29T08:11:37Z</td>\n",
       "    </tr>\n",
       "    <tr>\n",
       "      <th>1</th>\n",
       "      <td>kovidgoyal</td>\n",
       "      <td>Kovid Goyal</td>\n",
       "      <td>NaN</td>\n",
       "      <td>Mumbai, India</td>\n",
       "      <td>NaN</td>\n",
       "      <td>NaN</td>\n",
       "      <td>Principal developer of calibre and kitty</td>\n",
       "      <td>37</td>\n",
       "      <td>4297</td>\n",
       "      <td>0</td>\n",
       "      <td>2012-01-06T05:38:24Z</td>\n",
       "    </tr>\n",
       "    <tr>\n",
       "      <th>2</th>\n",
       "      <td>slidenerd</td>\n",
       "      <td>slidenerd</td>\n",
       "      <td>SLIDENERD</td>\n",
       "      <td>Mumbai</td>\n",
       "      <td>slidenerd@gmail.com</td>\n",
       "      <td>True</td>\n",
       "      <td>Bots, AI, advanced web frameworks, ohlc applic...</td>\n",
       "      <td>113</td>\n",
       "      <td>3167</td>\n",
       "      <td>1</td>\n",
       "      <td>2013-08-01T14:17:19Z</td>\n",
       "    </tr>\n",
       "    <tr>\n",
       "      <th>3</th>\n",
       "      <td>aryashah2k</td>\n",
       "      <td>Arya Shah</td>\n",
       "      <td>OPENAOD</td>\n",
       "      <td>Mumbai, India</td>\n",
       "      <td>NaN</td>\n",
       "      <td>NaN</td>\n",
       "      <td>Computer Science Major | Machine Learning | So...</td>\n",
       "      <td>88</td>\n",
       "      <td>2601</td>\n",
       "      <td>2583</td>\n",
       "      <td>2020-11-03T03:06:19Z</td>\n",
       "    </tr>\n",
       "    <tr>\n",
       "      <th>4</th>\n",
       "      <td>coding-parrot</td>\n",
       "      <td>Gaurav Sen</td>\n",
       "      <td>INTERVIEWREADY</td>\n",
       "      <td>Mumbai, India</td>\n",
       "      <td>NaN</td>\n",
       "      <td>NaN</td>\n",
       "      <td>CEO of InterviewReady</td>\n",
       "      <td>11</td>\n",
       "      <td>2416</td>\n",
       "      <td>0</td>\n",
       "      <td>2020-01-03T14:13:35Z</td>\n",
       "    </tr>\n",
       "    <tr>\n",
       "      <th>...</th>\n",
       "      <td>...</td>\n",
       "      <td>...</td>\n",
       "      <td>...</td>\n",
       "      <td>...</td>\n",
       "      <td>...</td>\n",
       "      <td>...</td>\n",
       "      <td>...</td>\n",
       "      <td>...</td>\n",
       "      <td>...</td>\n",
       "      <td>...</td>\n",
       "      <td>...</td>\n",
       "    </tr>\n",
       "    <tr>\n",
       "      <th>720</th>\n",
       "      <td>mufassirkazi</td>\n",
       "      <td>Mufassir Kazi</td>\n",
       "      <td>NaN</td>\n",
       "      <td>Mumbai</td>\n",
       "      <td>NaN</td>\n",
       "      <td>NaN</td>\n",
       "      <td>Low-code backend - right on your finger tips.</td>\n",
       "      <td>3</td>\n",
       "      <td>51</td>\n",
       "      <td>1531</td>\n",
       "      <td>2018-12-23T13:52:01Z</td>\n",
       "    </tr>\n",
       "    <tr>\n",
       "      <th>721</th>\n",
       "      <td>mdjawedh022</td>\n",
       "      <td>Md Jawed Hussain</td>\n",
       "      <td>MASAI SCHOOL</td>\n",
       "      <td>Mumbai, Maharashtra</td>\n",
       "      <td>NaN</td>\n",
       "      <td>NaN</td>\n",
       "      <td>Aspiring full-stack web development profession...</td>\n",
       "      <td>55</td>\n",
       "      <td>51</td>\n",
       "      <td>17</td>\n",
       "      <td>2022-06-22T06:30:44Z</td>\n",
       "    </tr>\n",
       "    <tr>\n",
       "      <th>722</th>\n",
       "      <td>sonusathyadas</td>\n",
       "      <td>Sonu Sathyadas</td>\n",
       "      <td>SYNERGETICS INDIA PVT LTD</td>\n",
       "      <td>Mumbai</td>\n",
       "      <td>sonusathyadas@hotmail.com</td>\n",
       "      <td>NaN</td>\n",
       "      <td>I have 14+ years of corporate training experie...</td>\n",
       "      <td>72</td>\n",
       "      <td>51</td>\n",
       "      <td>2</td>\n",
       "      <td>2016-05-09T08:21:39Z</td>\n",
       "    </tr>\n",
       "    <tr>\n",
       "      <th>723</th>\n",
       "      <td>vidit0210</td>\n",
       "      <td>Vidit Shah</td>\n",
       "      <td>NaN</td>\n",
       "      <td>Mumbai</td>\n",
       "      <td>NaN</td>\n",
       "      <td>NaN</td>\n",
       "      <td>NaN</td>\n",
       "      <td>8</td>\n",
       "      <td>51</td>\n",
       "      <td>1</td>\n",
       "      <td>2014-06-19T19:06:50Z</td>\n",
       "    </tr>\n",
       "    <tr>\n",
       "      <th>724</th>\n",
       "      <td>krittikaiitb</td>\n",
       "      <td>Krittika</td>\n",
       "      <td>NaN</td>\n",
       "      <td>Mumbai, India</td>\n",
       "      <td>krittika.club@iitb.ac.in</td>\n",
       "      <td>NaN</td>\n",
       "      <td>We are the Astronomy Club of IIT Bombay</td>\n",
       "      <td>9</td>\n",
       "      <td>51</td>\n",
       "      <td>0</td>\n",
       "      <td>2019-12-25T08:15:19Z</td>\n",
       "    </tr>\n",
       "  </tbody>\n",
       "</table>\n",
       "<p>725 rows × 11 columns</p>\n",
       "</div>"
      ],
      "text/plain": [
       "                  login                 name                    company  \\\n",
       "0    ValentineFernandes  Valentine Fernandes                        NaN   \n",
       "1            kovidgoyal          Kovid Goyal                        NaN   \n",
       "2             slidenerd            slidenerd                  SLIDENERD   \n",
       "3            aryashah2k            Arya Shah                    OPENAOD   \n",
       "4         coding-parrot           Gaurav Sen             INTERVIEWREADY   \n",
       "..                  ...                  ...                        ...   \n",
       "720        mufassirkazi        Mufassir Kazi                        NaN   \n",
       "721         mdjawedh022     Md Jawed Hussain               MASAI SCHOOL   \n",
       "722       sonusathyadas       Sonu Sathyadas  SYNERGETICS INDIA PVT LTD   \n",
       "723           vidit0210           Vidit Shah                        NaN   \n",
       "724        krittikaiitb             Krittika                        NaN   \n",
       "\n",
       "                location                      email hireable  \\\n",
       "0          Mumbai, India                        NaN      NaN   \n",
       "1          Mumbai, India                        NaN      NaN   \n",
       "2                 Mumbai        slidenerd@gmail.com     True   \n",
       "3          Mumbai, India                        NaN      NaN   \n",
       "4          Mumbai, India                        NaN      NaN   \n",
       "..                   ...                        ...      ...   \n",
       "720               Mumbai                        NaN      NaN   \n",
       "721  Mumbai, Maharashtra                        NaN      NaN   \n",
       "722               Mumbai  sonusathyadas@hotmail.com      NaN   \n",
       "723               Mumbai                        NaN      NaN   \n",
       "724        Mumbai, India   krittika.club@iitb.ac.in      NaN   \n",
       "\n",
       "                                                   bio  public_repos  \\\n",
       "0            HTML |  CSS |  JS  |  SQL |  MYSQL | JAVA            66   \n",
       "1             Principal developer of calibre and kitty            37   \n",
       "2    Bots, AI, advanced web frameworks, ohlc applic...           113   \n",
       "3    Computer Science Major | Machine Learning | So...            88   \n",
       "4                                CEO of InterviewReady            11   \n",
       "..                                                 ...           ...   \n",
       "720      Low-code backend - right on your finger tips.             3   \n",
       "721  Aspiring full-stack web development profession...            55   \n",
       "722  I have 14+ years of corporate training experie...            72   \n",
       "723                                                NaN             8   \n",
       "724            We are the Astronomy Club of IIT Bombay             9   \n",
       "\n",
       "     followers  following            created_at  \n",
       "0         5252       5275  2022-01-29T08:11:37Z  \n",
       "1         4297          0  2012-01-06T05:38:24Z  \n",
       "2         3167          1  2013-08-01T14:17:19Z  \n",
       "3         2601       2583  2020-11-03T03:06:19Z  \n",
       "4         2416          0  2020-01-03T14:13:35Z  \n",
       "..         ...        ...                   ...  \n",
       "720         51       1531  2018-12-23T13:52:01Z  \n",
       "721         51         17  2022-06-22T06:30:44Z  \n",
       "722         51          2  2016-05-09T08:21:39Z  \n",
       "723         51          1  2014-06-19T19:06:50Z  \n",
       "724         51          0  2019-12-25T08:15:19Z  \n",
       "\n",
       "[725 rows x 11 columns]"
      ]
     },
     "execution_count": 3,
     "metadata": {},
     "output_type": "execute_result"
    }
   ],
   "source": [
    "users"
   ]
  },
  {
   "cell_type": "code",
   "execution_count": 4,
   "id": "b302ec5e-bf9d-48a9-b87c-fb22836b3ea6",
   "metadata": {},
   "outputs": [
    {
     "data": {
      "text/html": [
       "<div>\n",
       "<style scoped>\n",
       "    .dataframe tbody tr th:only-of-type {\n",
       "        vertical-align: middle;\n",
       "    }\n",
       "\n",
       "    .dataframe tbody tr th {\n",
       "        vertical-align: top;\n",
       "    }\n",
       "\n",
       "    .dataframe thead th {\n",
       "        text-align: right;\n",
       "    }\n",
       "</style>\n",
       "<table border=\"1\" class=\"dataframe\">\n",
       "  <thead>\n",
       "    <tr style=\"text-align: right;\">\n",
       "      <th></th>\n",
       "      <th>login</th>\n",
       "      <th>full_name</th>\n",
       "      <th>created_at</th>\n",
       "      <th>stargazers_count</th>\n",
       "      <th>watchers_count</th>\n",
       "      <th>language</th>\n",
       "      <th>has_projects</th>\n",
       "      <th>has_wiki</th>\n",
       "      <th>license_name</th>\n",
       "    </tr>\n",
       "  </thead>\n",
       "  <tbody>\n",
       "    <tr>\n",
       "      <th>0</th>\n",
       "      <td>ValentineFernandes</td>\n",
       "      <td>ValentineFernandes/Food-Website</td>\n",
       "      <td>2022-06-01T17:20:57Z</td>\n",
       "      <td>54</td>\n",
       "      <td>54</td>\n",
       "      <td>HTML</td>\n",
       "      <td>True</td>\n",
       "      <td>True</td>\n",
       "      <td>mit</td>\n",
       "    </tr>\n",
       "    <tr>\n",
       "      <th>1</th>\n",
       "      <td>ValentineFernandes</td>\n",
       "      <td>ValentineFernandes/DentalClinic-Website</td>\n",
       "      <td>2022-06-02T10:28:55Z</td>\n",
       "      <td>60</td>\n",
       "      <td>60</td>\n",
       "      <td>HTML</td>\n",
       "      <td>True</td>\n",
       "      <td>True</td>\n",
       "      <td>mit</td>\n",
       "    </tr>\n",
       "    <tr>\n",
       "      <th>2</th>\n",
       "      <td>ValentineFernandes</td>\n",
       "      <td>ValentineFernandes/ValentineFernandes</td>\n",
       "      <td>2022-02-12T09:27:51Z</td>\n",
       "      <td>59</td>\n",
       "      <td>59</td>\n",
       "      <td>NaN</td>\n",
       "      <td>True</td>\n",
       "      <td>False</td>\n",
       "      <td>NaN</td>\n",
       "    </tr>\n",
       "    <tr>\n",
       "      <th>3</th>\n",
       "      <td>ValentineFernandes</td>\n",
       "      <td>ValentineFernandes/PetDog-Complete-Website</td>\n",
       "      <td>2022-03-24T07:17:59Z</td>\n",
       "      <td>55</td>\n",
       "      <td>55</td>\n",
       "      <td>HTML</td>\n",
       "      <td>True</td>\n",
       "      <td>True</td>\n",
       "      <td>mit</td>\n",
       "    </tr>\n",
       "    <tr>\n",
       "      <th>4</th>\n",
       "      <td>ValentineFernandes</td>\n",
       "      <td>ValentineFernandes/MySQL-Assignment</td>\n",
       "      <td>2022-10-10T13:59:53Z</td>\n",
       "      <td>12</td>\n",
       "      <td>12</td>\n",
       "      <td>NaN</td>\n",
       "      <td>True</td>\n",
       "      <td>True</td>\n",
       "      <td>mit</td>\n",
       "    </tr>\n",
       "    <tr>\n",
       "      <th>...</th>\n",
       "      <td>...</td>\n",
       "      <td>...</td>\n",
       "      <td>...</td>\n",
       "      <td>...</td>\n",
       "      <td>...</td>\n",
       "      <td>...</td>\n",
       "      <td>...</td>\n",
       "      <td>...</td>\n",
       "      <td>...</td>\n",
       "    </tr>\n",
       "    <tr>\n",
       "      <th>41368</th>\n",
       "      <td>krittikaiitb</td>\n",
       "      <td>krittikaiitb/2022_convener_selections</td>\n",
       "      <td>2022-05-10T20:01:57Z</td>\n",
       "      <td>0</td>\n",
       "      <td>0</td>\n",
       "      <td>Jupyter Notebook</td>\n",
       "      <td>True</td>\n",
       "      <td>True</td>\n",
       "      <td>NaN</td>\n",
       "    </tr>\n",
       "    <tr>\n",
       "      <th>41369</th>\n",
       "      <td>krittikaiitb</td>\n",
       "      <td>krittikaiitb/KSP2022-selection</td>\n",
       "      <td>2022-06-07T06:09:36Z</td>\n",
       "      <td>5</td>\n",
       "      <td>5</td>\n",
       "      <td>Jupyter Notebook</td>\n",
       "      <td>True</td>\n",
       "      <td>True</td>\n",
       "      <td>NaN</td>\n",
       "    </tr>\n",
       "    <tr>\n",
       "      <th>41370</th>\n",
       "      <td>krittikaiitb</td>\n",
       "      <td>krittikaiitb/KSP2021-selection</td>\n",
       "      <td>2021-06-23T12:00:57Z</td>\n",
       "      <td>5</td>\n",
       "      <td>5</td>\n",
       "      <td>Jupyter Notebook</td>\n",
       "      <td>True</td>\n",
       "      <td>True</td>\n",
       "      <td>NaN</td>\n",
       "    </tr>\n",
       "    <tr>\n",
       "      <th>41371</th>\n",
       "      <td>krittikaiitb</td>\n",
       "      <td>krittikaiitb/Scratchboard</td>\n",
       "      <td>2020-04-05T15:45:32Z</td>\n",
       "      <td>2</td>\n",
       "      <td>2</td>\n",
       "      <td>Jupyter Notebook</td>\n",
       "      <td>True</td>\n",
       "      <td>True</td>\n",
       "      <td>NaN</td>\n",
       "    </tr>\n",
       "    <tr>\n",
       "      <th>41372</th>\n",
       "      <td>krittikaiitb</td>\n",
       "      <td>krittikaiitb/SciCompGC</td>\n",
       "      <td>2020-02-12T21:25:25Z</td>\n",
       "      <td>2</td>\n",
       "      <td>2</td>\n",
       "      <td>Jupyter Notebook</td>\n",
       "      <td>True</td>\n",
       "      <td>True</td>\n",
       "      <td>NaN</td>\n",
       "    </tr>\n",
       "  </tbody>\n",
       "</table>\n",
       "<p>41373 rows × 9 columns</p>\n",
       "</div>"
      ],
      "text/plain": [
       "                    login                                   full_name  \\\n",
       "0      ValentineFernandes             ValentineFernandes/Food-Website   \n",
       "1      ValentineFernandes     ValentineFernandes/DentalClinic-Website   \n",
       "2      ValentineFernandes       ValentineFernandes/ValentineFernandes   \n",
       "3      ValentineFernandes  ValentineFernandes/PetDog-Complete-Website   \n",
       "4      ValentineFernandes         ValentineFernandes/MySQL-Assignment   \n",
       "...                   ...                                         ...   \n",
       "41368        krittikaiitb       krittikaiitb/2022_convener_selections   \n",
       "41369        krittikaiitb              krittikaiitb/KSP2022-selection   \n",
       "41370        krittikaiitb              krittikaiitb/KSP2021-selection   \n",
       "41371        krittikaiitb                   krittikaiitb/Scratchboard   \n",
       "41372        krittikaiitb                      krittikaiitb/SciCompGC   \n",
       "\n",
       "                 created_at  stargazers_count  watchers_count  \\\n",
       "0      2022-06-01T17:20:57Z                54              54   \n",
       "1      2022-06-02T10:28:55Z                60              60   \n",
       "2      2022-02-12T09:27:51Z                59              59   \n",
       "3      2022-03-24T07:17:59Z                55              55   \n",
       "4      2022-10-10T13:59:53Z                12              12   \n",
       "...                     ...               ...             ...   \n",
       "41368  2022-05-10T20:01:57Z                 0               0   \n",
       "41369  2022-06-07T06:09:36Z                 5               5   \n",
       "41370  2021-06-23T12:00:57Z                 5               5   \n",
       "41371  2020-04-05T15:45:32Z                 2               2   \n",
       "41372  2020-02-12T21:25:25Z                 2               2   \n",
       "\n",
       "               language  has_projects  has_wiki license_name  \n",
       "0                  HTML          True      True          mit  \n",
       "1                  HTML          True      True          mit  \n",
       "2                   NaN          True     False          NaN  \n",
       "3                  HTML          True      True          mit  \n",
       "4                   NaN          True      True          mit  \n",
       "...                 ...           ...       ...          ...  \n",
       "41368  Jupyter Notebook          True      True          NaN  \n",
       "41369  Jupyter Notebook          True      True          NaN  \n",
       "41370  Jupyter Notebook          True      True          NaN  \n",
       "41371  Jupyter Notebook          True      True          NaN  \n",
       "41372  Jupyter Notebook          True      True          NaN  \n",
       "\n",
       "[41373 rows x 9 columns]"
      ]
     },
     "execution_count": 4,
     "metadata": {},
     "output_type": "execute_result"
    }
   ],
   "source": [
    "repos"
   ]
  },
  {
   "cell_type": "markdown",
   "id": "b1080dc5-75b9-4651-8f6d-d8f297bc9445",
   "metadata": {},
   "source": [
    "# Questions\n",
    "## Q1\n",
    " Who are the top 5 users in Mumbai with the highest number of followers? List their login in order, comma-separated."
   ]
  },
  {
   "cell_type": "code",
   "execution_count": 5,
   "id": "de82a608-0f83-4a1a-b160-bc613e7922e8",
   "metadata": {},
   "outputs": [
    {
     "data": {
      "text/plain": [
       "'ValentineFernandes,kovidgoyal,slidenerd,aryashah2k,coding-parrot'"
      ]
     },
     "execution_count": 5,
     "metadata": {},
     "output_type": "execute_result"
    }
   ],
   "source": [
    "','.join(users.sort_values('followers', ascending=False)[:5]['login'])"
   ]
  },
  {
   "cell_type": "markdown",
   "id": "054d24d8-7120-4d33-8f1f-f8aaab910921",
   "metadata": {},
   "source": [
    "## Q2\n",
    "Who are the 5 earliest registered GitHub users in Mumbai? List their login in ascending order of created_at, comma-separated."
   ]
  },
  {
   "cell_type": "code",
   "execution_count": 6,
   "id": "be685e7e-584f-44dc-83d5-e1d8d6afabc2",
   "metadata": {},
   "outputs": [
    {
     "data": {
      "text/plain": [
       "'ivank,sandeepshetty,svs,nitinhayaran,nischal'"
      ]
     },
     "execution_count": 6,
     "metadata": {},
     "output_type": "execute_result"
    }
   ],
   "source": [
    "','.join(users.sort_values('created_at', ascending=True)[:5]['login'])"
   ]
  },
  {
   "cell_type": "markdown",
   "id": "bf1ee5be-fb12-404a-ab28-e84d2dfca9be",
   "metadata": {},
   "source": [
    "## Q3\n",
    "What are the 3 most popular license among these users? Ignore missing licenses. List the license_name in order, comma-separated."
   ]
  },
  {
   "cell_type": "code",
   "execution_count": 7,
   "id": "93f1a656-8b0c-4995-8f42-22ffa88a29cb",
   "metadata": {},
   "outputs": [
    {
     "data": {
      "text/plain": [
       "'mit,apache-2.0,other'"
      ]
     },
     "execution_count": 7,
     "metadata": {},
     "output_type": "execute_result"
    }
   ],
   "source": [
    "license_counts = repos.groupby('license_name').count().reset_index()\n",
    "','.join(license_counts.sort_values('login', ascending=False)[:3]['license_name'])"
   ]
  },
  {
   "cell_type": "markdown",
   "id": "d760ca45-12c3-45a2-8504-61479af6b42f",
   "metadata": {},
   "source": [
    "## Q4\n",
    "Which company do the majority of these developers work at?"
   ]
  },
  {
   "cell_type": "code",
   "execution_count": 8,
   "id": "174e5ba8-849e-44de-8c7d-66daaa3a8b49",
   "metadata": {},
   "outputs": [
    {
     "data": {
      "text/plain": [
       "193    MASAI SCHOOL\n",
       "Name: company, dtype: object"
      ]
     },
     "execution_count": 8,
     "metadata": {},
     "output_type": "execute_result"
    }
   ],
   "source": [
    "company_counts = users.groupby('company').count().reset_index()\n",
    "company_counts.sort_values('login', ascending=False)[:1]['company']"
   ]
  },
  {
   "cell_type": "markdown",
   "id": "da3b396c-ad56-4871-b306-81075632be33",
   "metadata": {},
   "source": [
    "## Q5\n",
    "Which programming language is most popular among these users?"
   ]
  },
  {
   "cell_type": "code",
   "execution_count": 9,
   "id": "f0b8189b-0d51-4a2b-b1c8-67d5743d0dab",
   "metadata": {},
   "outputs": [
    {
     "data": {
      "text/plain": [
       "55    JavaScript\n",
       "Name: language, dtype: object"
      ]
     },
     "execution_count": 9,
     "metadata": {},
     "output_type": "execute_result"
    }
   ],
   "source": [
    "lang_counts = repos.groupby('language').count().reset_index()\n",
    "lang_counts.sort_values('login', ascending=False)[:1]['language']"
   ]
  },
  {
   "cell_type": "markdown",
   "id": "29416ce3-89a6-4649-8677-754f7808021a",
   "metadata": {},
   "source": [
    "## Q6\n",
    "Which programming language is the second most popular among users who joined after 2020?"
   ]
  },
  {
   "cell_type": "code",
   "execution_count": 10,
   "id": "1ef9ce72-74ae-41ca-afe0-a13e2f3092f0",
   "metadata": {},
   "outputs": [
    {
     "data": {
      "text/plain": [
       "14    HTML\n",
       "Name: language, dtype: object"
      ]
     },
     "execution_count": 10,
     "metadata": {},
     "output_type": "execute_result"
    }
   ],
   "source": [
    "recent_user_logins = users[users['created_at'] > '2020-12-31']['login']\n",
    "target_repos = repos[repos['login'].isin(recent_user_logins)]\n",
    "recent_lang_counts = target_repos.groupby('language').count().reset_index()\n",
    "recent_lang_counts.sort_values('login', ascending=False)[1:2]['language']"
   ]
  },
  {
   "cell_type": "markdown",
   "id": "77e9c029-9768-43b0-b226-363077be6304",
   "metadata": {},
   "source": [
    "## Q7\n",
    "Which language has the highest average number of stars per repository?"
   ]
  },
  {
   "cell_type": "code",
   "execution_count": 11,
   "id": "65e53057-f273-4d23-ae8c-0850a4631869",
   "metadata": {},
   "outputs": [
    {
     "data": {
      "text/plain": [
       "language\n",
       "TSQL    571.230769\n",
       "Name: stargazers_count, dtype: float64"
      ]
     },
     "execution_count": 11,
     "metadata": {},
     "output_type": "execute_result"
    }
   ],
   "source": [
    "repos.groupby('language')['stargazers_count'].agg('mean').sort_values(ascending=False)[:1]"
   ]
  },
  {
   "cell_type": "markdown",
   "id": "2d0d86f7-5534-4b6a-a08d-6e1b9de09c92",
   "metadata": {},
   "source": [
    "## Q8\n",
    " Let's define leader_strength as followers / (1 + following). Who are the top 5 in terms of leader_strength? List their login in order, comma-separated."
   ]
  },
  {
   "cell_type": "code",
   "execution_count": 12,
   "id": "d2d00055-ded5-4a0d-b341-c876916fd714",
   "metadata": {},
   "outputs": [
    {
     "data": {
      "text/plain": [
       "'kovidgoyal,coding-parrot,gkcs,slidenerd,dmalvia'"
      ]
     },
     "execution_count": 12,
     "metadata": {},
     "output_type": "execute_result"
    }
   ],
   "source": [
    "leader_strength_df = users[['login', 'followers', 'following']].copy()\n",
    "leader_strength_df['leader_strength'] = users['followers'] / (1 + users['following']) \n",
    "','.join(leader_strength_df.sort_values('leader_strength', ascending=False)[:5]['login'])"
   ]
  },
  {
   "cell_type": "markdown",
   "id": "bd2746b6-62e9-484d-9112-388c225f3d4a",
   "metadata": {},
   "source": [
    "## Q9\n",
    "What is the correlation between the number of followers and the number of public repositories among users in Mumbai?\n",
    "\n",
    "Correlation between followers and repos (to 3 decimal places, e.g. 0.123 or -0.123)"
   ]
  },
  {
   "cell_type": "code",
   "execution_count": 13,
   "id": "0ab67724-9f92-42b8-b195-f72f95b92649",
   "metadata": {},
   "outputs": [
    {
     "data": {
      "text/html": [
       "<div>\n",
       "<style scoped>\n",
       "    .dataframe tbody tr th:only-of-type {\n",
       "        vertical-align: middle;\n",
       "    }\n",
       "\n",
       "    .dataframe tbody tr th {\n",
       "        vertical-align: top;\n",
       "    }\n",
       "\n",
       "    .dataframe thead th {\n",
       "        text-align: right;\n",
       "    }\n",
       "</style>\n",
       "<table border=\"1\" class=\"dataframe\">\n",
       "  <thead>\n",
       "    <tr style=\"text-align: right;\">\n",
       "      <th></th>\n",
       "      <th>followers</th>\n",
       "      <th>public_repos</th>\n",
       "    </tr>\n",
       "  </thead>\n",
       "  <tbody>\n",
       "    <tr>\n",
       "      <th>followers</th>\n",
       "      <td>1.000000</td>\n",
       "      <td>0.034493</td>\n",
       "    </tr>\n",
       "    <tr>\n",
       "      <th>public_repos</th>\n",
       "      <td>0.034493</td>\n",
       "      <td>1.000000</td>\n",
       "    </tr>\n",
       "  </tbody>\n",
       "</table>\n",
       "</div>"
      ],
      "text/plain": [
       "              followers  public_repos\n",
       "followers      1.000000      0.034493\n",
       "public_repos   0.034493      1.000000"
      ]
     },
     "execution_count": 13,
     "metadata": {},
     "output_type": "execute_result"
    }
   ],
   "source": [
    "users[['followers', 'public_repos']].corr()"
   ]
  },
  {
   "cell_type": "markdown",
   "id": "c40c5c75-8112-4301-b7e2-202c5b51a94a",
   "metadata": {},
   "source": [
    "## Q10\n",
    "Does creating more repos help users get more followers? Using regression, estimate how many additional followers a user gets per additional public repository.\n",
    "\n",
    "Regression slope of followers on repos (to 3 decimal places, e.g. 0.123 or -0.123)"
   ]
  },
  {
   "cell_type": "code",
   "execution_count": 14,
   "id": "243a6baf-fe96-4011-b5c3-e6007f8ed3fd",
   "metadata": {},
   "outputs": [
    {
     "data": {
      "text/plain": [
       "array([1.00895228e-01, 1.50462094e+02])"
      ]
     },
     "execution_count": 14,
     "metadata": {},
     "output_type": "execute_result"
    }
   ],
   "source": [
    "repos_vs_followers = np.polyfit(users['public_repos'], users['followers'], 1)\n",
    "repos_vs_followers"
   ]
  },
  {
   "cell_type": "markdown",
   "id": "43f32e1c-96bf-448e-99f0-1c96015371e8",
   "metadata": {},
   "source": [
    "## Q11\n",
    "Do people typically enable projects and wikis together? What is the correlation between a repo having projects enabled and having wiki enabled?\n",
    "\n",
    "Correlation between projects and wiki enabled (to 3 decimal places, e.g. 0.123 or -0.123)"
   ]
  },
  {
   "cell_type": "code",
   "execution_count": 15,
   "id": "05cf0387-459e-4f4e-87c4-fdef242a78e7",
   "metadata": {},
   "outputs": [
    {
     "data": {
      "text/html": [
       "<div>\n",
       "<style scoped>\n",
       "    .dataframe tbody tr th:only-of-type {\n",
       "        vertical-align: middle;\n",
       "    }\n",
       "\n",
       "    .dataframe tbody tr th {\n",
       "        vertical-align: top;\n",
       "    }\n",
       "\n",
       "    .dataframe thead th {\n",
       "        text-align: right;\n",
       "    }\n",
       "</style>\n",
       "<table border=\"1\" class=\"dataframe\">\n",
       "  <thead>\n",
       "    <tr style=\"text-align: right;\">\n",
       "      <th></th>\n",
       "      <th>has_wiki</th>\n",
       "      <th>has_projects</th>\n",
       "    </tr>\n",
       "  </thead>\n",
       "  <tbody>\n",
       "    <tr>\n",
       "      <th>has_wiki</th>\n",
       "      <td>1.000000</td>\n",
       "      <td>0.159566</td>\n",
       "    </tr>\n",
       "    <tr>\n",
       "      <th>has_projects</th>\n",
       "      <td>0.159566</td>\n",
       "      <td>1.000000</td>\n",
       "    </tr>\n",
       "  </tbody>\n",
       "</table>\n",
       "</div>"
      ],
      "text/plain": [
       "              has_wiki  has_projects\n",
       "has_wiki      1.000000      0.159566\n",
       "has_projects  0.159566      1.000000"
      ]
     },
     "execution_count": 15,
     "metadata": {},
     "output_type": "execute_result"
    }
   ],
   "source": [
    "repos[['has_wiki', 'has_projects']].corr()"
   ]
  },
  {
   "cell_type": "markdown",
   "id": "12bff8cc-12af-4a09-840c-4bc512001b92",
   "metadata": {},
   "source": [
    "## Q12\n",
    "Do hireable users follow more people than those who are not hireable?\n",
    "\n",
    "Average of following per user for hireable=true minus the average following for the rest (to 3 decimal places, e.g. 12.345 or -12.345)"
   ]
  },
  {
   "cell_type": "code",
   "execution_count": 16,
   "id": "0e2d0c96-b920-4998-8d72-cdf38d839465",
   "metadata": {},
   "outputs": [
    {
     "data": {
      "text/plain": [
       "np.float64(8.715590812295801)"
      ]
     },
     "execution_count": 16,
     "metadata": {},
     "output_type": "execute_result"
    }
   ],
   "source": [
    "hireable_avg = users[users['hireable'] == True]['following'].mean()\n",
    "non_hireable_avg = users[~(users['hireable'] == True)]['following'].mean()\n",
    "hireable_avg-non_hireable_avg"
   ]
  },
  {
   "cell_type": "markdown",
   "id": "ef0da184-993f-4b9e-b262-c062aee75059",
   "metadata": {},
   "source": [
    "## Q13\n",
    "Some developers write long bios. Does that help them get more followers? What's the correlation of the length of their bio (in Unicode words, split by whitespace) with followers? (Ignore people without bios)\n",
    "\n",
    "Regression slope of followers on bio word count (to 3 decimal places, e.g. 12.345 or -12.345)"
   ]
  },
  {
   "cell_type": "code",
   "execution_count": 17,
   "id": "4fbdc570-103a-45e8-a887-a679ee386386",
   "metadata": {},
   "outputs": [
    {
     "data": {
      "text/plain": [
       "np.float64(-0.49339510683854876)"
      ]
     },
     "execution_count": 17,
     "metadata": {},
     "output_type": "execute_result"
    }
   ],
   "source": [
    "biolen_followers = users[['followers', 'bio']].copy()\n",
    "biolen_followers.dropna(inplace=True)\n",
    "biolen_followers['bio_len'] = biolen_followers['bio'].apply(lambda n: len(n.split()))\n",
    "\n",
    "bio_vs_followers = np.polyfit(biolen_followers['bio_len'], biolen_followers['followers'], 1)\n",
    "bio_vs_followers[0]"
   ]
  },
  {
   "cell_type": "markdown",
   "id": "99f30ffd-c15c-420b-bed5-3d7a5a686426",
   "metadata": {},
   "source": [
    "## Q14\n",
    "Who created the most repositories on weekends (UTC)? List the top 5 users' login in order, comma-separated\n",
    "\n",
    "Users login"
   ]
  },
  {
   "cell_type": "code",
   "execution_count": 43,
   "id": "eb21d77b-9b0d-4763-9564-d53f0a8c3efa",
   "metadata": {},
   "outputs": [
    {
     "data": {
      "text/plain": [
       "'Kushal334,alokproc,vinod1988,patilswapnilv,rajeshpillai'"
      ]
     },
     "execution_count": 43,
     "metadata": {},
     "output_type": "execute_result"
    }
   ],
   "source": [
    "repos_time_conv = repos.copy()\n",
    "repos_time_conv['created_day'] = pd.to_datetime(repos_time_conv['created_at']).dt.dayofweek\n",
    "weekend_repos = repos_time_conv[repos_time_conv['created_day'].isin([5,6])]\n",
    "','.join(weekend_repos.groupby('login').count().reset_index().sort_values('full_name', ascending=False)['login'][:5])"
   ]
  },
  {
   "cell_type": "code",
   "execution_count": 63,
   "id": "ceded47c-dc3c-4aa0-9525-5705f79d471c",
   "metadata": {},
   "outputs": [
    {
     "name": "stdout",
     "output_type": "stream",
     "text": [
      "27.9% of all repos created over the weekends (which make up 2/7 ~ 28.6% of the week)\n",
      "6.32850702271545 4.741110627031737\n"
     ]
    }
   ],
   "source": [
    "weekend_stars = weekend_repos['stargazers_count'].mean()\n",
    "weekday_repos = repos_time_conv[~repos_time_conv['created_day'].isin([5,6])]\n",
    "weekday_stars = weekday_repos['stargazers_count'].mean()\n",
    "\n",
    "print(f\"{round(len(weekend_repos)/len(repos)*100,1)}% of all repos created over the weekends (which make up 2/7 ~ {round(2/7*100,1)}% of the week)\")\n",
    "print(weekend_stars, weekday_stars)"
   ]
  },
  {
   "cell_type": "markdown",
   "id": "c2718585-f192-4ba5-ac0e-76054bc5aa27",
   "metadata": {},
   "source": [
    "## Q15\n",
    "Do people who are hireable share their email addresses more often?\n",
    "\n",
    "[fraction of users with email when hireable=true] minus [fraction of users with email for the rest] (to 3 decimal places, e.g. 0.123 or -0.123)"
   ]
  },
  {
   "cell_type": "code",
   "execution_count": 19,
   "id": "6f6e54de-330a-48e8-85e3-792dfa0d7aaf",
   "metadata": {},
   "outputs": [
    {
     "data": {
      "text/plain": [
       "np.float64(0.221133995480924)"
      ]
     },
     "execution_count": 19,
     "metadata": {},
     "output_type": "execute_result"
    }
   ],
   "source": [
    "hireable_email = users[users['hireable'] == True]['email']\n",
    "non_hireable_email = users[users['hireable'].isna()]['email']\n",
    "\n",
    "hireable_email.notna().mean()-non_hireable_email.notna().mean()"
   ]
  },
  {
   "cell_type": "markdown",
   "id": "dc4e9654-e5ba-4ce9-8045-708ceaa6898d",
   "metadata": {},
   "source": [
    "## Q16\n",
    "Let's assume that the last word in a user's name is their surname (ignore missing names, trim and split by whitespace.) What's the most common surname? (If there's a tie, list them all, comma-separated, alphabetically)\n"
   ]
  },
  {
   "cell_type": "code",
   "execution_count": 20,
   "id": "42db26d6-9d9e-4a8b-b42a-d5cc9792366a",
   "metadata": {},
   "outputs": [
    {
     "data": {
      "text/html": [
       "<div>\n",
       "<style scoped>\n",
       "    .dataframe tbody tr th:only-of-type {\n",
       "        vertical-align: middle;\n",
       "    }\n",
       "\n",
       "    .dataframe tbody tr th {\n",
       "        vertical-align: top;\n",
       "    }\n",
       "\n",
       "    .dataframe thead th {\n",
       "        text-align: right;\n",
       "    }\n",
       "</style>\n",
       "<table border=\"1\" class=\"dataframe\">\n",
       "  <thead>\n",
       "    <tr style=\"text-align: right;\">\n",
       "      <th></th>\n",
       "      <th>last_name</th>\n",
       "      <th>name</th>\n",
       "    </tr>\n",
       "  </thead>\n",
       "  <tbody>\n",
       "    <tr>\n",
       "      <th>368</th>\n",
       "      <td>Singh</td>\n",
       "      <td>18</td>\n",
       "    </tr>\n",
       "  </tbody>\n",
       "</table>\n",
       "</div>"
      ],
      "text/plain": [
       "    last_name  name\n",
       "368     Singh    18"
      ]
     },
     "execution_count": 20,
     "metadata": {},
     "output_type": "execute_result"
    }
   ],
   "source": [
    "user_surname_df = users[['name']].copy()\n",
    "name_split = users['name'].str.split(' ', expand=True)\n",
    "\n",
    "user_surname_df['last_name'] = name_split[1]\n",
    "user_surname_df.groupby('last_name').count().reset_index().sort_values('name', ascending=False)[:1]"
   ]
  },
  {
   "cell_type": "markdown",
   "id": "1c200767-1c24-4066-bc78-665bd128b9c3",
   "metadata": {},
   "source": [
    "# Extra Analysis"
   ]
  },
  {
   "cell_type": "code",
   "execution_count": 21,
   "id": "7d93d2a4-41e6-4614-aee3-bbca2f9e4193",
   "metadata": {},
   "outputs": [],
   "source": [
    "language_counts = repos['language'].value_counts().head(10)\n",
    "most_popular_languages = language_counts.to_dict()"
   ]
  },
  {
   "cell_type": "code",
   "execution_count": 41,
   "id": "19d2d1fb-65e3-432e-bbde-d0f4c7cbae88",
   "metadata": {},
   "outputs": [],
   "source": [
    "language_stars = repos.groupby('language')['stargazers_count'].agg(['mean', 'count'])\n",
    "language_stars = language_stars[language_stars['count'] > 0.01*len(repos)].sort_values('mean', ascending=False)"
   ]
  },
  {
   "cell_type": "code",
   "execution_count": 23,
   "id": "6c30d3e4-a605-4ed7-a160-6d122b08ac00",
   "metadata": {},
   "outputs": [],
   "source": [
    "repos['created_at'] = pd.to_datetime(repos['created_at'])\n",
    "repos['creation_year'] = repos['created_at'].dt.year\n",
    "yearly_repos = repos['creation_year'].value_counts().sort_index()"
   ]
  },
  {
   "cell_type": "code",
   "execution_count": 24,
   "id": "195aba52-698b-4131-b564-5a49e1eaa584",
   "metadata": {},
   "outputs": [],
   "source": [
    "company_counts = users['company'].value_counts()\n",
    "top_companies = company_counts[company_counts.index != ''].head(10)"
   ]
  },
  {
   "cell_type": "code",
   "execution_count": 25,
   "id": "cce386bf-876d-441e-9373-9c3aaf592276",
   "metadata": {},
   "outputs": [],
   "source": [
    "users['created_at'] = pd.to_datetime(users['created_at'], utc=True)\n",
    "now = datetime.datetime.now().replace(tzinfo=datetime.timezone.utc)\n",
    "users['account_age_years'] = (now - users['created_at']).dt.total_seconds() / (365.25 * 24 * 60 * 60)"
   ]
  },
  {
   "cell_type": "code",
   "execution_count": 26,
   "id": "19a1a3d6-a5c9-45d7-97f1-2aa6f0919ae5",
   "metadata": {},
   "outputs": [],
   "source": [
    "user_repo_stats = repos.groupby('login').agg({\n",
    "    'stargazers_count': ['sum', 'mean'],\n",
    "    'watchers_count': ['sum', 'mean'],\n",
    "    'full_name': 'count'\n",
    "}).reset_index()\n",
    "user_repo_stats.columns = ['login', 'total_stars', 'avg_stars', 'total_watchers', 'avg_watchers', 'repo_count']\n",
    "\n",
    "# Merge with users data\n",
    "success_metrics = pd.merge(users, user_repo_stats, on='login', how='left')"
   ]
  },
  {
   "cell_type": "code",
   "execution_count": 27,
   "id": "44ef10cd-e3dc-4901-9205-94f8b2f68669",
   "metadata": {},
   "outputs": [],
   "source": [
    "correlation_metrics = success_metrics[['account_age_years', 'followers', 'repo_count', 'total_stars']].corr()"
   ]
  },
  {
   "cell_type": "code",
   "execution_count": 28,
   "id": "ee19a67b-077e-4320-9f1b-67f9454f324b",
   "metadata": {},
   "outputs": [
    {
     "data": {
      "text/html": [
       "<div>\n",
       "<style scoped>\n",
       "    .dataframe tbody tr th:only-of-type {\n",
       "        vertical-align: middle;\n",
       "    }\n",
       "\n",
       "    .dataframe tbody tr th {\n",
       "        vertical-align: top;\n",
       "    }\n",
       "\n",
       "    .dataframe thead th {\n",
       "        text-align: right;\n",
       "    }\n",
       "</style>\n",
       "<table border=\"1\" class=\"dataframe\">\n",
       "  <thead>\n",
       "    <tr style=\"text-align: right;\">\n",
       "      <th></th>\n",
       "      <th>login</th>\n",
       "      <th>total_stars</th>\n",
       "      <th>avg_stars</th>\n",
       "      <th>total_watchers</th>\n",
       "      <th>avg_watchers</th>\n",
       "      <th>repo_count</th>\n",
       "    </tr>\n",
       "  </thead>\n",
       "  <tbody>\n",
       "    <tr>\n",
       "      <th>451</th>\n",
       "      <td>kovidgoyal</td>\n",
       "      <td>45796</td>\n",
       "      <td>1237.729730</td>\n",
       "      <td>45796</td>\n",
       "      <td>1237.729730</td>\n",
       "      <td>37</td>\n",
       "    </tr>\n",
       "    <tr>\n",
       "      <th>216</th>\n",
       "      <td>TechnitiumSoftware</td>\n",
       "      <td>4922</td>\n",
       "      <td>820.333333</td>\n",
       "      <td>4922</td>\n",
       "      <td>820.333333</td>\n",
       "      <td>6</td>\n",
       "    </tr>\n",
       "    <tr>\n",
       "      <th>530</th>\n",
       "      <td>prasadgujar</td>\n",
       "      <td>6685</td>\n",
       "      <td>215.645161</td>\n",
       "      <td>6685</td>\n",
       "      <td>215.645161</td>\n",
       "      <td>31</td>\n",
       "    </tr>\n",
       "    <tr>\n",
       "      <th>364</th>\n",
       "      <td>dr5hn</td>\n",
       "      <td>7566</td>\n",
       "      <td>184.536585</td>\n",
       "      <td>7566</td>\n",
       "      <td>184.536585</td>\n",
       "      <td>41</td>\n",
       "    </tr>\n",
       "    <tr>\n",
       "      <th>336</th>\n",
       "      <td>coding-parrot</td>\n",
       "      <td>1631</td>\n",
       "      <td>148.272727</td>\n",
       "      <td>1631</td>\n",
       "      <td>148.272727</td>\n",
       "      <td>11</td>\n",
       "    </tr>\n",
       "    <tr>\n",
       "      <th>...</th>\n",
       "      <td>...</td>\n",
       "      <td>...</td>\n",
       "      <td>...</td>\n",
       "      <td>...</td>\n",
       "      <td>...</td>\n",
       "      <td>...</td>\n",
       "    </tr>\n",
       "    <tr>\n",
       "      <th>113</th>\n",
       "      <td>Mohd-Ali2</td>\n",
       "      <td>0</td>\n",
       "      <td>0.000000</td>\n",
       "      <td>0</td>\n",
       "      <td>0.000000</td>\n",
       "      <td>17</td>\n",
       "    </tr>\n",
       "    <tr>\n",
       "      <th>508</th>\n",
       "      <td>nischal</td>\n",
       "      <td>0</td>\n",
       "      <td>0.000000</td>\n",
       "      <td>0</td>\n",
       "      <td>0.000000</td>\n",
       "      <td>1</td>\n",
       "    </tr>\n",
       "    <tr>\n",
       "      <th>210</th>\n",
       "      <td>Suryansh777777</td>\n",
       "      <td>0</td>\n",
       "      <td>0.000000</td>\n",
       "      <td>0</td>\n",
       "      <td>0.000000</td>\n",
       "      <td>29</td>\n",
       "    </tr>\n",
       "    <tr>\n",
       "      <th>214</th>\n",
       "      <td>TanmayGharat1505</td>\n",
       "      <td>0</td>\n",
       "      <td>0.000000</td>\n",
       "      <td>0</td>\n",
       "      <td>0.000000</td>\n",
       "      <td>43</td>\n",
       "    </tr>\n",
       "    <tr>\n",
       "      <th>150</th>\n",
       "      <td>Rahul5303</td>\n",
       "      <td>0</td>\n",
       "      <td>0.000000</td>\n",
       "      <td>0</td>\n",
       "      <td>0.000000</td>\n",
       "      <td>53</td>\n",
       "    </tr>\n",
       "  </tbody>\n",
       "</table>\n",
       "<p>722 rows × 6 columns</p>\n",
       "</div>"
      ],
      "text/plain": [
       "                  login  total_stars    avg_stars  total_watchers  \\\n",
       "451          kovidgoyal        45796  1237.729730           45796   \n",
       "216  TechnitiumSoftware         4922   820.333333            4922   \n",
       "530         prasadgujar         6685   215.645161            6685   \n",
       "364               dr5hn         7566   184.536585            7566   \n",
       "336       coding-parrot         1631   148.272727            1631   \n",
       "..                  ...          ...          ...             ...   \n",
       "113           Mohd-Ali2            0     0.000000               0   \n",
       "508             nischal            0     0.000000               0   \n",
       "210      Suryansh777777            0     0.000000               0   \n",
       "214    TanmayGharat1505            0     0.000000               0   \n",
       "150           Rahul5303            0     0.000000               0   \n",
       "\n",
       "     avg_watchers  repo_count  \n",
       "451   1237.729730          37  \n",
       "216    820.333333           6  \n",
       "530    215.645161          31  \n",
       "364    184.536585          41  \n",
       "336    148.272727          11  \n",
       "..            ...         ...  \n",
       "113      0.000000          17  \n",
       "508      0.000000           1  \n",
       "210      0.000000          29  \n",
       "214      0.000000          43  \n",
       "150      0.000000          53  \n",
       "\n",
       "[722 rows x 6 columns]"
      ]
     },
     "execution_count": 28,
     "metadata": {},
     "output_type": "execute_result"
    }
   ],
   "source": [
    "user_repo_stats.sort_values('avg_stars', ascending=False)"
   ]
  },
  {
   "cell_type": "code",
   "execution_count": 42,
   "id": "057cb19f-02ec-44a3-bafb-af15f6d06fd8",
   "metadata": {},
   "outputs": [
    {
     "name": "stdout",
     "output_type": "stream",
     "text": [
      "\n",
      "=== Key Insights ===\n",
      "\n",
      "Total Users: 725\n",
      "Total Repositories: 41373\n",
      "\n",
      "1. Programming Languages\n",
      "\n",
      "Top 5 Most Used Languages:\n",
      "JavaScript: 8163 repositories\n",
      "Python: 4269 repositories\n",
      "HTML: 2904 repositories\n",
      "Java: 2291 repositories\n",
      "Jupyter Notebook: 2237 repositories\n",
      "\n",
      "Languages with Highest Average Stars (min 1% of total repos):\n",
      "                 mean  count\n",
      "language                    \n",
      "Python      15.118529   4269\n",
      "TypeScript   8.139852   1759\n",
      "Dart         6.415525    657\n",
      "Shell        5.532864    426\n",
      "C++          5.452023    865\n",
      "\n",
      "2. Top Companies\n",
      "\n",
      "Most Common Companies (excluding blanks):\n",
      "company\n",
      "MASAI SCHOOL             14\n",
      "BROWSERSTACK             13\n",
      "FRAPPE                   10\n",
      "IIT BOMBAY                9\n",
      "ITM SKILLS UNIVERSITY     6\n",
      "\n",
      "3. Success Correlations\n",
      "\n",
      "Correlations between success metrics:\n",
      "                   account_age_years  followers  repo_count  total_stars\n",
      "account_age_years               1.00       0.06        0.21         0.16\n",
      "followers                       0.06       1.00        0.06         0.52\n",
      "repo_count                      0.21       0.06        1.00        -0.00\n",
      "total_stars                     0.16       0.52       -0.00         1.00\n",
      "\n",
      "4. Repository Growth\n",
      "\n",
      "Yearly repository creation trend:\n",
      "creation_year\n",
      "2020    5786\n",
      "2021    6132\n",
      "2022    6785\n",
      "2023    6168\n",
      "2024    4047\n"
     ]
    }
   ],
   "source": [
    "print(\"\\n=== Key Insights ===\")\n",
    "print(f\"\\nTotal Users: {len(users)}\")\n",
    "print(f\"Total Repositories: {len(repos)}\")\n",
    "# print(f\"Total Followers: {total_followers}\")\n",
    "\n",
    "print(\"\\n1. Programming Languages\")\n",
    "print(\"\\nTop 5 Most Used Languages:\")\n",
    "for lang, count in list(most_popular_languages.items())[:5]:\n",
    "    if pd.notna(lang):\n",
    "        print(f\"{lang}: {count} repositories\")\n",
    "\n",
    "print(\"\\nLanguages with Highest Average Stars (min 1% of total repos):\")\n",
    "print(language_stars.head().to_string())\n",
    "\n",
    "print(\"\\n2. Top Companies\")\n",
    "print(\"\\nMost Common Companies (excluding blanks):\")\n",
    "print(top_companies.head().to_string())\n",
    "\n",
    "print(\"\\n3. Success Correlations\")\n",
    "print(\"\\nCorrelations between success metrics:\")\n",
    "print(correlation_metrics.round(2))\n",
    "\n",
    "print(\"\\n4. Repository Growth\")\n",
    "print(\"\\nYearly repository creation trend:\")\n",
    "print(yearly_repos.tail().to_string())"
   ]
  },
  {
   "cell_type": "code",
   "execution_count": 64,
   "id": "9bbcd0de-b48a-49d9-8d6d-3d1b496e1b9f",
   "metadata": {},
   "outputs": [
    {
     "data": {
      "text/html": [
       "<div>\n",
       "<style scoped>\n",
       "    .dataframe tbody tr th:only-of-type {\n",
       "        vertical-align: middle;\n",
       "    }\n",
       "\n",
       "    .dataframe tbody tr th {\n",
       "        vertical-align: top;\n",
       "    }\n",
       "\n",
       "    .dataframe thead th {\n",
       "        text-align: right;\n",
       "    }\n",
       "</style>\n",
       "<table border=\"1\" class=\"dataframe\">\n",
       "  <thead>\n",
       "    <tr style=\"text-align: right;\">\n",
       "      <th></th>\n",
       "      <th>binned</th>\n",
       "      <th>followers</th>\n",
       "    </tr>\n",
       "  </thead>\n",
       "  <tbody>\n",
       "    <tr>\n",
       "      <th>0</th>\n",
       "      <td>(0, 5]</td>\n",
       "      <td>128.634409</td>\n",
       "    </tr>\n",
       "    <tr>\n",
       "      <th>1</th>\n",
       "      <td>(5, 10]</td>\n",
       "      <td>195.801282</td>\n",
       "    </tr>\n",
       "    <tr>\n",
       "      <th>2</th>\n",
       "      <td>(10, 15]</td>\n",
       "      <td>207.128205</td>\n",
       "    </tr>\n",
       "    <tr>\n",
       "      <th>3</th>\n",
       "      <td>(15, 20]</td>\n",
       "      <td>142.604396</td>\n",
       "    </tr>\n",
       "    <tr>\n",
       "      <th>4</th>\n",
       "      <td>(20, 25]</td>\n",
       "      <td>131.125000</td>\n",
       "    </tr>\n",
       "    <tr>\n",
       "      <th>5</th>\n",
       "      <td>(25, 30]</td>\n",
       "      <td>121.294118</td>\n",
       "    </tr>\n",
       "    <tr>\n",
       "      <th>6</th>\n",
       "      <td>(30, 35]</td>\n",
       "      <td>122.500000</td>\n",
       "    </tr>\n",
       "  </tbody>\n",
       "</table>\n",
       "</div>"
      ],
      "text/plain": [
       "     binned   followers\n",
       "0    (0, 5]  128.634409\n",
       "1   (5, 10]  195.801282\n",
       "2  (10, 15]  207.128205\n",
       "3  (15, 20]  142.604396\n",
       "4  (20, 25]  131.125000\n",
       "5  (25, 30]  121.294118\n",
       "6  (30, 35]  122.500000"
      ]
     },
     "execution_count": 64,
     "metadata": {},
     "output_type": "execute_result"
    }
   ],
   "source": [
    "import matplotlib.pyplot as plt\n",
    "\n",
    "bins = [0, 5, 10, 15, 20, 25, 30, 35]\n",
    "biolen_followers['binned'] = pd.cut(biolen_followers['bio_len'], bins)\n",
    "biolen_followers.groupby('binned', observed=False)['followers'].mean().reset_index()"
   ]
  }
 ],
 "metadata": {
  "kernelspec": {
   "display_name": "f1tenth",
   "language": "python",
   "name": "f1tenth"
  },
  "language_info": {
   "codemirror_mode": {
    "name": "ipython",
    "version": 3
   },
   "file_extension": ".py",
   "mimetype": "text/x-python",
   "name": "python",
   "nbconvert_exporter": "python",
   "pygments_lexer": "ipython3",
   "version": "3.10.12"
  }
 },
 "nbformat": 4,
 "nbformat_minor": 5
}
